{
 "cells": [
  {
   "cell_type": "code",
   "execution_count": 1,
   "id": "7d3893b7-f1d4-434a-9005-f2c356076cee",
   "metadata": {},
   "outputs": [
    {
     "name": "stderr",
     "output_type": "stream",
     "text": [
      "INFO     Loaded mrestimator v0.1.8, writing to /tmp/mre_xu.yifan/\n",
      "INFO     Numba not available, skipping parallelization\n"
     ]
    }
   ],
   "source": [
    "# these packages can be installed from https://github.com/hengenlab\n",
    "\n",
    "import neuraltoolkit as ntk\n",
    "import musclebeachtools as mbt\n",
    "import numpy as np\n",
    "import os\n",
    "import mrestimator as mre   # pip install\n",
    "import pandas as pd\n",
    "import scipy as sc\n",
    "\n",
    "from datetime import date\n",
    "today = date.today()\n",
    "today = today.strftime(\"%Y_%m_%d\")"
   ]
  },
  {
   "cell_type": "code",
   "execution_count": 3,
   "id": "0660fafe-e77e-4869-b509-afc7c315284f",
   "metadata": {},
   "outputs": [],
   "source": [
    "def Calc_BR(A_t, k_max,ava_binsz,pltname):\n",
    "\n",
    "    dt = ava_binsz*1000\n",
    "    kmax = k_max\n",
    "\n",
    "    src = mre. input_handler(A_t)\n",
    "    rks = mre. coefficients(src , steps =(1, kmax) , dt=dt, dtunit='ms', method='trialseparated')\n",
    "\n",
    "    fit1 = mre.fit(rks , fitfunc='complex')\n",
    "    fit2 = mre.fit(rks , fitfunc='exp_offset')\n",
    "\n",
    "    fig,ax1 = plt.subplots()\n",
    "    ax1.plot(rks.steps, rks.coefficients, '.k', alpha = 0.2, label=r'Data')\n",
    "\n",
    "    ax1.plot(rks.steps, mre.f_complex(rks.steps*dt, *fit1.popt), label='complex m={:.5f}'.format(fit1.mre))\n",
    "    ax1.plot(rks.steps, mre.f_exponential_offset(rks.steps*dt, *fit2.popt), label='exp + offset m={:.5f}'.format(fit2.mre))\n",
    "\n",
    "    ax1.set_xlabel(r'Time lag $\\delta t$')\n",
    "    ax1.set_ylabel(r'Autocorrelation $r_{\\delta t}$')\n",
    "    ax1.legend()\n",
    "    plt.savefig(pltname)\n",
    "    plt.close()\n",
    "\n",
    "    fit_acc1 = sc.stats.pearsonr(rks.coefficients, mre.f_complex(rks.steps*dt, *fit1.popt))[0]\n",
    "    fit_acc2 = sc.stats.pearsonr(rks.coefficients, mre.f_exponential_offset(rks.steps*dt, *fit2.popt))[0]\n",
    "\n",
    "    return fit1.mre, fit2.mre, fit_acc1, fit_acc2"
   ]
  },
  {
   "cell_type": "code",
   "execution_count": null,
   "id": "57678c63-317a-4947-a655-e3bfd2a2e375",
   "metadata": {},
   "outputs": [],
   "source": [
    "neurons = np.load('/media/HlabShare/Yifan_Work/Document/spk_data/XYF12/block1/XYF12_b1_neurons_quality.npy',allow_pickle = True)\n",
    "\n",
    "goodCells = [neuron for neuron in neurons if neuron.quality in [1,2]]\n",
    "\n",
    "for i in np.arange(0,len(goodCells)):\n",
    "    goodCells[i].remove_large_amplitude_spikes(3.5,lstd_deviation=True, start=False, end=False, lplot=False)\n",
    "\n",
    "goodCells = [neuron for neuron in goodCells if neuron.cell_type == 'RSU']\n",
    "\n",
    "nrn_time = 1          # total hours we want to analyze\n",
    "ava_binsz = 0.004     # 4ms binsize\n",
    "data= mbt.n_spiketimes_to_spikewords(goodCells,ava_binsz,0,3600*nrn_time,0)    #1 is for binary, 0 is for count actual number\n",
    "\n",
    "A_t = np.sum(data,0)\n",
    "\n",
    "calcbin = 120   # get branching ratio every 2 min\n",
    "\n",
    "thistime = int(np.floor(A_t.shape[0]/(calcbin/ava_binsz)))\n",
    "minbin = int(calcbin/ava_binsz)\n",
    "\n",
    "k_max = 500\n",
    "BR_list_all = []\n",
    "\n",
    "for i in np.arange(thistime):\n",
    "\n",
    "    pltname = \"XYF12_2min_num\" + str(i)\n",
    "    BR_list = np.asarray(Calc_BR(A_t[i*minbin:(i+1)*minbin], k_max, ava_binsz, pltname))\n",
    "    BR_list_all.append(BR_list)"
   ]
  },
  {
   "cell_type": "code",
   "execution_count": null,
   "id": "08dd2eac-18ee-40d9-97ef-17d88c68b392",
   "metadata": {},
   "outputs": [],
   "source": []
  }
 ],
 "metadata": {
  "kernelspec": {
   "display_name": "Python 3 (ipykernel)",
   "language": "python",
   "name": "python3"
  },
  "language_info": {
   "codemirror_mode": {
    "name": "ipython",
    "version": 3
   },
   "file_extension": ".py",
   "mimetype": "text/x-python",
   "name": "python",
   "nbconvert_exporter": "python",
   "pygments_lexer": "ipython3",
   "version": "3.10.0"
  }
 },
 "nbformat": 4,
 "nbformat_minor": 5
}
